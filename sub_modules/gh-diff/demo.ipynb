{
 "metadata": {
  "name": "",
  "signature": "sha256:ab4135e938eba9692c08be61ab4f41f223d2479ed31fa1023c79005d4dc26370"
 },
 "nbformat": 3,
 "nbformat_minor": 0,
 "worksheets": [
  {
   "cells": [
    {
     "cell_type": "code",
     "collapsed": false,
     "input": [
      "%load_ext ghdiff"
     ],
     "language": "python",
     "metadata": {},
     "outputs": [],
     "prompt_number": 1
    },
    {
     "cell_type": "code",
     "collapsed": false,
     "input": [
      "a = \"\"\"\n",
      "Lorem ipsum dolor sit amet, \n",
      "consectetur adipisicing elit, \n",
      "sed do eiusmod\n",
      "\"\"\"\n",
      "\n",
      "b = \"\"\"\n",
      "Lorem ipsum dolor sit amet, \n",
      "consectetur adipisicing elit, \n",
      "sed do eiusmod tempor incididunt ut labore et dolore magna aliqua\n",
      "\"\"\""
     ],
     "language": "python",
     "metadata": {},
     "outputs": [],
     "prompt_number": 2
    },
    {
     "cell_type": "code",
     "collapsed": false,
     "input": [
      "%ghdiff a b"
     ],
     "language": "python",
     "metadata": {},
     "outputs": [
      {
       "html": [
        "<style type=\"text/css\">\n",
        "    .diff {\n",
        "        border: 1px solid #cccccc;\n",
        "        background: none repeat scroll 0 0 #f8f8f8;\n",
        "        font-family: 'Bitstream Vera Sans Mono','Courier',monospace;\n",
        "        font-size: 12px;\n",
        "        line-height: 1.4;\n",
        "        white-space: normal;\n",
        "        word-wrap: break-word;\n",
        "    }\n",
        "    .diff div:hover {\n",
        "        background-color:#ffc;\n",
        "    }\n",
        "    .diff .control {\n",
        "        background-color: #eaf2f5;\n",
        "        color: #999999;\n",
        "    }\n",
        "    .diff .insert {\n",
        "        background-color: #ddffdd;\n",
        "        color: #000000;\n",
        "    }\n",
        "    .diff .insert .highlight {\n",
        "        background-color: #aaffaa;\n",
        "        color: #000000;\n",
        "    }\n",
        "    .diff .delete {\n",
        "        background-color: #ffdddd;\n",
        "        color: #000000;\n",
        "    }\n",
        "    .diff .delete .highlight {\n",
        "        background-color: #ffaaaa;\n",
        "        color: #000000;\n",
        "    }\n",
        "</style>\n",
        "<div class=\"diff\">\n",
        "<div class=\"control\">@@&nbsp;-1,4&nbsp;+1,4&nbsp;@@\n",
        "</div>\n",
        "<div class=\"\">&nbsp;</div>\n",
        "<div class=\"\">&nbsp;Lorem&nbsp;ipsum&nbsp;dolor&nbsp;sit&nbsp;amet,&nbsp;</div>\n",
        "<div class=\"\">&nbsp;consectetur&nbsp;adipisicing&nbsp;elit,&nbsp;</div>\n",
        "<div class=\"delete\">-sed&nbsp;do&nbsp;eiusmod<span class=\"highlight\"></span></div>\n",
        "<div class=\"insert\">+sed&nbsp;do&nbsp;eiusmod<span class=\"highlight\">&nbsp;tempor&nbsp;incididunt&nbsp;ut&nbsp;labore&nbsp;et&nbsp;dolore&nbsp;magna&nbsp;aliqua</span></div>\n",
        "</div>"
       ],
       "metadata": {},
       "output_type": "pyout",
       "prompt_number": 3,
       "text": [
        "<IPython.core.display.HTML at 0x1840f50>"
       ]
      }
     ],
     "prompt_number": 3
    },
    {
     "cell_type": "code",
     "collapsed": false,
     "input": [],
     "language": "python",
     "metadata": {},
     "outputs": []
    }
   ],
   "metadata": {}
  }
 ]
}